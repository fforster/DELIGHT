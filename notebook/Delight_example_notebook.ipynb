{
 "cells": [
  {
   "cell_type": "markdown",
   "id": "dde5b80b",
   "metadata": {},
   "source": [
    "# DELIGHT test notebook\n",
    "\n",
    "Francisco Förster et al. 2022\n",
    "\n",
    "The **Deep Learning Identification of Galaxy Hosts in Transients (DELIGHT, Förster et al. 2022)** is a library created by the [ALeRCE broker](http://alerce.science/) to automatically identify host galaxies of transient candidates using multi-resolution images and a convolutional neural network.\n",
    "\n",
    "The library has a class with different subroutines that allows you to get the most likely host coordinates starting from given transient coordinates.\n",
    "\n",
    "In order to do this, the delight object needs a list of object identifiers and coordinates (oid, ra, dec). With this information, it downloads PanSTARRS images centered around the position of the transients (2 arcmin x 2 arcmin), gets their WCS solutions, creates the multi-resolution images, does some extra preprocessing of the data, and finally predicts the position of the hosts using a multi-resolution image and a convolutional neural network. It can also estimate the host's semi-major axis if requested taking advantage of the multi-resolution images.\n",
    "\n",
    "Note that DELIGHT's prediction time is currently dominated by the time to download PanSTARRS images using the [panstamps service](https://readthedocs.org/projects/panstamps/). In the future, we expect that there will be services that directly provide multi-resolution images, which should be more lightweight with no significant loss of information."
   ]
  },
  {
   "cell_type": "markdown",
   "id": "dbe9368b",
   "metadata": {},
   "source": [
    "**Dependencies**:\n",
    "\n",
    "* pandas, numpy, matplotlib\n",
    "* xarray (python -m pip install xarray)\n",
    "* astropy (pip install astropy)\n",
    "* sep (pip install sep)\n",
    "* tensorflow (https://www.tensorflow.org/install/pip)\n",
    "* pantamps (pip install panstamps)"
   ]
  },
  {
   "cell_type": "code",
   "execution_count": 1,
   "id": "5787420b",
   "metadata": {
    "ExecuteTime": {
     "end_time": "2022-07-31T15:40:01.746283Z",
     "start_time": "2022-07-31T15:40:01.742434Z"
    }
   },
   "outputs": [],
   "source": [
    "# Add delight\n",
    "#! pip install astro-delight"
   ]
  },
  {
   "cell_type": "markdown",
   "id": "81c57ba6",
   "metadata": {},
   "source": [
    "Load libraries"
   ]
  },
  {
   "cell_type": "code",
   "execution_count": 2,
   "id": "3954b4ef",
   "metadata": {
    "ExecuteTime": {
     "end_time": "2022-07-31T15:40:07.405141Z",
     "start_time": "2022-07-31T15:40:02.206361Z"
    }
   },
   "outputs": [],
   "source": [
    "import os, sys\n",
    "import pandas as pd\n",
    "\n",
    "from delight.delight import *"
   ]
  },
  {
   "cell_type": "code",
   "execution_count": 3,
   "id": "f4e60b32",
   "metadata": {
    "ExecuteTime": {
     "end_time": "2022-07-31T15:40:07.512417Z",
     "start_time": "2022-07-31T15:40:07.413529Z"
    }
   },
   "outputs": [],
   "source": [
    "%load_ext autoreload\n",
    "%autoreload 2"
   ]
  },
  {
   "cell_type": "markdown",
   "id": "6f490a2a",
   "metadata": {},
   "source": [
    "# Load reference data"
   ]
  },
  {
   "cell_type": "markdown",
   "id": "6c637f05",
   "metadata": {},
   "source": [
    "This contains ids, ra, dec"
   ]
  },
  {
   "cell_type": "code",
   "execution_count": 4,
   "id": "a4a1605f",
   "metadata": {
    "ExecuteTime": {
     "end_time": "2022-07-31T15:40:08.021277Z",
     "start_time": "2022-07-31T15:40:07.929053Z"
    },
    "scrolled": true
   },
   "outputs": [],
   "source": [
    "# data directory and file with names and coordinates                                                                                                                                                                                                 \n",
    "datadir = '../data'\n",
    "df = pd.read_csv(os.path.join(datadir, 'testcoords.csv'))\n",
    "\n",
    "# use this if you are running from colab\n",
    "#df = pd.read_csv(\"https://raw.githubusercontent.com/fforster/DELIGHT/main/data/testcoords.csv\")"
   ]
  },
  {
   "cell_type": "markdown",
   "id": "2336d08f",
   "metadata": {},
   "source": [
    "# Start DELIGHT"
   ]
  },
  {
   "cell_type": "markdown",
   "id": "89f350ba",
   "metadata": {},
   "source": [
    "This requires defining a data directory, ids, ras and decs"
   ]
  },
  {
   "cell_type": "code",
   "execution_count": 5,
   "id": "fc037652",
   "metadata": {
    "ExecuteTime": {
     "end_time": "2022-07-31T15:40:09.739508Z",
     "start_time": "2022-07-31T15:40:09.673911Z"
    }
   },
   "outputs": [],
   "source": [
    "# start Delight client                                                                                                                                                                                        \n",
    "dclient = Delight(datadir, df.oid.values, df.ra.values, df.dec.values)"
   ]
  },
  {
   "cell_type": "markdown",
   "id": "35662592",
   "metadata": {},
   "source": [
    "Download data and get pixel coordinates"
   ]
  },
  {
   "cell_type": "code",
   "execution_count": 6,
   "id": "b8c1ad96",
   "metadata": {
    "ExecuteTime": {
     "end_time": "2022-07-31T15:40:10.423926Z",
     "start_time": "2022-07-31T15:40:10.331564Z"
    }
   },
   "outputs": [
    {
     "name": "stdout",
     "output_type": "stream",
     "text": [
      "Downloading 0 missing files.\n"
     ]
    }
   ],
   "source": [
    "# download missing data (will check for existing files first)\n",
    "dclient.download()"
   ]
  },
  {
   "cell_type": "code",
   "execution_count": 7,
   "id": "c592c95b",
   "metadata": {
    "ExecuteTime": {
     "end_time": "2022-07-31T15:40:10.660282Z",
     "start_time": "2022-07-31T15:40:10.584631Z"
    }
   },
   "outputs": [
    {
     "data": {
      "text/plain": [
       "(32, 4)"
      ]
     },
     "execution_count": 7,
     "metadata": {},
     "output_type": "execute_result"
    }
   ],
   "source": [
    "dclient.df.shape"
   ]
  },
  {
   "cell_type": "markdown",
   "id": "29b40e48",
   "metadata": {},
   "source": [
    "Read WCS solutions to move between pixel and celestial coordinates"
   ]
  },
  {
   "cell_type": "code",
   "execution_count": 8,
   "id": "431a107c",
   "metadata": {
    "ExecuteTime": {
     "end_time": "2022-07-31T15:40:12.419006Z",
     "start_time": "2022-07-31T15:40:11.773747Z"
    },
    "scrolled": false
   },
   "outputs": [
    {
     "name": "stdout",
     "output_type": "stream",
     "text": [
      "Loading WCS information\n"
     ]
    }
   ],
   "source": [
    "# get coordinates using WCS solution (we turn warnings off temporarily)\n",
    "dclient.get_pix_coords()"
   ]
  },
  {
   "cell_type": "markdown",
   "id": "10a9f44d",
   "metadata": {},
   "source": [
    "# Create multi resolution images"
   ]
  },
  {
   "cell_type": "markdown",
   "id": "2a7f4b8b",
   "metadata": {},
   "source": [
    "This requires defining the number of levels, whether to mask by the median absolute deviation (`domask=True`, `doobject=False`), or using sextractor (`domask=False`, `doobject=True`)."
   ]
  },
  {
   "cell_type": "code",
   "execution_count": 9,
   "id": "bb7d5176",
   "metadata": {
    "ExecuteTime": {
     "end_time": "2022-07-31T15:40:16.992829Z",
     "start_time": "2022-07-31T15:40:14.236152Z"
    },
    "scrolled": true
   },
   "outputs": [],
   "source": [
    "nlevels = 5\n",
    "domask = False\n",
    "doobject = True\n",
    "doplot = False\n",
    "\n",
    "dclient.compute_multiresolution(nlevels, domask, doobject, doplot)"
   ]
  },
  {
   "cell_type": "markdown",
   "id": "a1bcd890",
   "metadata": {},
   "source": [
    "# Apply classification model "
   ]
  },
  {
   "cell_type": "markdown",
   "id": "69791669",
   "metadata": {},
   "source": [
    "Load the tensorflow model"
   ]
  },
  {
   "cell_type": "code",
   "execution_count": 10,
   "id": "fec26557",
   "metadata": {
    "ExecuteTime": {
     "end_time": "2022-07-31T15:40:21.308864Z",
     "start_time": "2022-07-31T15:40:19.711099Z"
    }
   },
   "outputs": [],
   "source": [
    "dclient.load_model()"
   ]
  },
  {
   "cell_type": "markdown",
   "id": "ccf8ffc7",
   "metadata": {},
   "source": [
    "## Preprocess the multi resolution data"
   ]
  },
  {
   "cell_type": "code",
   "execution_count": 11,
   "id": "969088e0",
   "metadata": {
    "ExecuteTime": {
     "end_time": "2022-07-31T15:40:21.498322Z",
     "start_time": "2022-07-31T15:40:21.392840Z"
    }
   },
   "outputs": [],
   "source": [
    "dclient.preprocess()"
   ]
  },
  {
   "cell_type": "markdown",
   "id": "e7c4f095",
   "metadata": {},
   "source": [
    "## Predict host galaxies using the model"
   ]
  },
  {
   "cell_type": "code",
   "execution_count": 12,
   "id": "0339d9e3",
   "metadata": {
    "ExecuteTime": {
     "end_time": "2022-07-31T15:40:26.777608Z",
     "start_time": "2022-07-31T15:40:23.599084Z"
    }
   },
   "outputs": [],
   "source": [
    "dclient.predict()"
   ]
  },
  {
   "cell_type": "markdown",
   "id": "d0d93acd",
   "metadata": {},
   "source": [
    "# Optional: get host sizes"
   ]
  },
  {
   "cell_type": "code",
   "execution_count": 16,
   "id": "288d0bdf",
   "metadata": {
    "ExecuteTime": {
     "end_time": "2022-07-31T17:16:51.958837Z",
     "start_time": "2022-07-31T17:16:46.970129Z"
    }
   },
   "outputs": [],
   "source": [
    "for oid in dclient.df.index:\n",
    "    dclient.get_hostsize(oid, doplot=False)"
   ]
  },
  {
   "cell_type": "markdown",
   "id": "856cc92a",
   "metadata": {},
   "source": [
    "# See final dataframe"
   ]
  },
  {
   "cell_type": "code",
   "execution_count": null,
   "id": "cea9661b",
   "metadata": {
    "ExecuteTime": {
     "end_time": "2022-07-29T22:10:23.464236Z",
     "start_time": "2022-07-29T22:10:23.434212Z"
    }
   },
   "outputs": [],
   "source": [
    "dclient.df"
   ]
  },
  {
   "cell_type": "markdown",
   "id": "e07d4e9b",
   "metadata": {},
   "source": [
    "# Save and load the data"
   ]
  },
  {
   "cell_type": "markdown",
   "id": "6e6ebb63",
   "metadata": {},
   "source": [
    "Save the data"
   ]
  },
  {
   "cell_type": "code",
   "execution_count": null,
   "id": "4f082f49",
   "metadata": {
    "ExecuteTime": {
     "end_time": "2022-07-26T18:57:42.961778Z",
     "start_time": "2022-07-26T18:57:42.881736Z"
    }
   },
   "outputs": [],
   "source": [
    "dclient.save()"
   ]
  },
  {
   "cell_type": "markdown",
   "id": "a00a7ebc",
   "metadata": {},
   "source": [
    "Load the data"
   ]
  },
  {
   "cell_type": "code",
   "execution_count": null,
   "id": "11643bcb",
   "metadata": {
    "ExecuteTime": {
     "end_time": "2022-07-26T18:57:43.983784Z",
     "start_time": "2022-07-26T18:57:43.884354Z"
    }
   },
   "outputs": [],
   "source": [
    "dclient.load()"
   ]
  },
  {
   "cell_type": "markdown",
   "id": "87d094e7",
   "metadata": {},
   "source": [
    "# Visualize the outputs"
   ]
  },
  {
   "cell_type": "markdown",
   "id": "b4ad1bb7",
   "metadata": {},
   "source": [
    "## See the contents of the dataframe for a given transient"
   ]
  },
  {
   "cell_type": "code",
   "execution_count": null,
   "id": "04abf8f0",
   "metadata": {
    "ExecuteTime": {
     "end_time": "2022-07-26T18:57:45.632590Z",
     "start_time": "2022-07-26T18:57:45.559771Z"
    }
   },
   "outputs": [],
   "source": [
    "dclient.df.loc[\"SN2004aq\"]"
   ]
  },
  {
   "cell_type": "markdown",
   "id": "b824944a",
   "metadata": {},
   "source": [
    "## See the host and predicted position"
   ]
  },
  {
   "cell_type": "markdown",
   "id": "33384eef",
   "metadata": {},
   "source": [
    "In most cases the model works very well, but if there are two nearby sources that could be identified as hosts the model may return a predicted position between both of them."
   ]
  },
  {
   "cell_type": "code",
   "execution_count": null,
   "id": "948951b3",
   "metadata": {
    "ExecuteTime": {
     "end_time": "2022-07-26T18:57:49.607026Z",
     "start_time": "2022-07-26T18:57:47.931215Z"
    }
   },
   "outputs": [],
   "source": [
    "dclient.plot_host(\"SN2004aq\")"
   ]
  },
  {
   "cell_type": "markdown",
   "id": "991578fa",
   "metadata": {},
   "source": [
    "## See the host semi-major axis estimation"
   ]
  },
  {
   "cell_type": "code",
   "execution_count": null,
   "id": "9bbfbb96",
   "metadata": {
    "ExecuteTime": {
     "end_time": "2022-07-26T18:57:52.341925Z",
     "start_time": "2022-07-26T18:57:51.675498Z"
    }
   },
   "outputs": [],
   "source": [
    "coordsdata = dclient.get_hostsize(\"SN2004aq\", doplot=True)"
   ]
  },
  {
   "cell_type": "markdown",
   "id": "b079b2f1",
   "metadata": {},
   "source": [
    "## Visualize all transient candidates"
   ]
  },
  {
   "cell_type": "code",
   "execution_count": null,
   "id": "371b5ab4",
   "metadata": {
    "ExecuteTime": {
     "end_time": "2022-07-22T15:55:50.142845Z",
     "start_time": "2022-07-22T15:54:37.524189Z"
    },
    "scrolled": false
   },
   "outputs": [],
   "source": [
    "for oid in dclient.df.index:\n",
    "    dclient.plot_host(oid)\n",
    "    dclient.get_hostsize(oid, doplot=True)"
   ]
  },
  {
   "cell_type": "code",
   "execution_count": null,
   "id": "2bea6137",
   "metadata": {
    "ExecuteTime": {
     "end_time": "2022-07-22T15:55:50.217188Z",
     "start_time": "2022-07-22T15:55:50.152171Z"
    }
   },
   "outputs": [],
   "source": [
    "dclient.df"
   ]
  },
  {
   "cell_type": "code",
   "execution_count": null,
   "id": "60b9257e",
   "metadata": {},
   "outputs": [],
   "source": []
  }
 ],
 "metadata": {
  "kernelspec": {
   "display_name": "Python 3",
   "language": "python",
   "name": "python3"
  },
  "language_info": {
   "codemirror_mode": {
    "name": "ipython",
    "version": 3
   },
   "file_extension": ".py",
   "mimetype": "text/x-python",
   "name": "python",
   "nbconvert_exporter": "python",
   "pygments_lexer": "ipython3",
   "version": "3.8.8"
  },
  "toc": {
   "base_numbering": 1,
   "nav_menu": {},
   "number_sections": true,
   "sideBar": true,
   "skip_h1_title": false,
   "title_cell": "Table of Contents",
   "title_sidebar": "Contents",
   "toc_cell": false,
   "toc_position": {},
   "toc_section_display": true,
   "toc_window_display": true
  },
  "varInspector": {
   "cols": {
    "lenName": 16,
    "lenType": 16,
    "lenVar": 40
   },
   "kernels_config": {
    "python": {
     "delete_cmd_postfix": "",
     "delete_cmd_prefix": "del ",
     "library": "var_list.py",
     "varRefreshCmd": "print(var_dic_list())"
    },
    "r": {
     "delete_cmd_postfix": ") ",
     "delete_cmd_prefix": "rm(",
     "library": "var_list.r",
     "varRefreshCmd": "cat(var_dic_list()) "
    }
   },
   "types_to_exclude": [
    "module",
    "function",
    "builtin_function_or_method",
    "instance",
    "_Feature"
   ],
   "window_display": false
  }
 },
 "nbformat": 4,
 "nbformat_minor": 5
}
