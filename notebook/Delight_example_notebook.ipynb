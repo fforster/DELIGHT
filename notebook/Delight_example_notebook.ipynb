{
 "cells": [
  {
   "cell_type": "markdown",
   "id": "dde5b80b",
   "metadata": {},
   "source": [
    "# DELIGHT test notebook\n",
    "\n",
    "Francisco Förster et al. 2022\n",
    "\n",
    "The **Deep Learning Identification of Galaxy Hosts in Transients (DELIGHT, Förster et al. 2022)** is a library created by the [ALeRCE broker](http://alerce.science/) to automatically identify host galaxies of transient candidates using multi-resolution images and a convolutional neural network.\n",
    "\n",
    "The library has a class with different subroutines that allows you to get the most likely host coordinates starting from given transient coordinates.\n",
    "\n",
    "In order to do this, the delight object needs a list of object identifiers and coordinates (oid, ra, dec). With this information, it downloads PanSTARRS images centered around the position of the transients (2 arcmin x 2 arcmin), gets their WCS solutions, creates the multi-resolution images, does some extra preprocessing of the data, and finally predicts the position of the hosts using a multi-resolution image and a convolutional neural network. It can also estimate the host's semi-major axis if requested taking advantage of the multi-resolution images.\n",
    "\n",
    "Note that DELIGHT's prediction time is currently dominated by the time to download PanSTARRS images using the [panstamps service](https://readthedocs.org/projects/panstamps/). In the future, we expect that there will be services that directly provide multi-resolution images, which should be more lightweight with no significant loss of information."
   ]
  },
  {
   "cell_type": "markdown",
   "id": "dbe9368b",
   "metadata": {},
   "source": [
    "**Dependencies**:\n",
    "\n",
    "* pandas, numpy, matplotlib\n",
    "* xarray (python -m pip install xarray)\n",
    "* astropy (pip install astropy)\n",
    "* sep (pip install sep)\n",
    "* tensorflow (https://www.tensorflow.org/install/pip)\n",
    "* pantamps (pip install panstamps)"
   ]
  },
  {
   "cell_type": "code",
   "execution_count": null,
   "id": "5787420b",
   "metadata": {
    "ExecuteTime": {
     "end_time": "2023-01-18T02:41:31.645738Z",
     "start_time": "2023-01-18T02:41:31.644181Z"
    }
   },
   "outputs": [],
   "source": [
    "# Add delight\n",
    "#! pip install astro-delight"
   ]
  },
  {
   "cell_type": "markdown",
   "id": "81c57ba6",
   "metadata": {},
   "source": [
    "Load libraries"
   ]
  },
  {
   "cell_type": "code",
   "execution_count": null,
   "id": "3954b4ef",
   "metadata": {
    "ExecuteTime": {
     "end_time": "2023-01-18T02:41:34.830468Z",
     "start_time": "2023-01-18T02:41:32.341491Z"
    }
   },
   "outputs": [],
   "source": [
    "import os, sys\n",
    "import pandas as pd\n",
    "\n",
    "from delight.delight import *"
   ]
  },
  {
   "cell_type": "code",
   "execution_count": null,
   "id": "7e31551e",
   "metadata": {
    "ExecuteTime": {
     "end_time": "2023-01-18T02:41:34.838073Z",
     "start_time": "2023-01-18T02:41:34.835730Z"
    }
   },
   "outputs": [],
   "source": [
    "try:\n",
    "    import google.colab\n",
    "    IN_COLAB = True\n",
    "    # panstamps colab fix\n",
    "    !mkdir /root/.config/panstamps\n",
    "    !panstamps init\n",
    "except:\n",
    "    IN_COLAB = False"
   ]
  },
  {
   "cell_type": "code",
   "execution_count": null,
   "id": "f4e60b32",
   "metadata": {
    "ExecuteTime": {
     "end_time": "2023-01-18T02:41:34.877566Z",
     "start_time": "2023-01-18T02:41:34.843171Z"
    }
   },
   "outputs": [],
   "source": [
    "%load_ext autoreload\n",
    "%autoreload 2"
   ]
  },
  {
   "cell_type": "markdown",
   "id": "6f490a2a",
   "metadata": {},
   "source": [
    "# Load reference data"
   ]
  },
  {
   "cell_type": "markdown",
   "id": "6c637f05",
   "metadata": {},
   "source": [
    "This contains ids, ra, dec"
   ]
  },
  {
   "cell_type": "code",
   "execution_count": null,
   "id": "a4a1605f",
   "metadata": {
    "ExecuteTime": {
     "end_time": "2023-01-18T02:41:35.785904Z",
     "start_time": "2023-01-18T02:41:35.761529Z"
    },
    "scrolled": true
   },
   "outputs": [],
   "source": [
    "# data directory and file with names and coordinates                                                                                                                                                                                                 \n",
    "datadir = '../data'\n",
    "if not IN_COLAB:\n",
    "    df = pd.read_csv(os.path.join(datadir, 'testcoords.csv'))\n",
    "else:\n",
    "    df = pd.read_csv(\"https://raw.githubusercontent.com/fforster/DELIGHT/main/data/testcoords.csv\")"
   ]
  },
  {
   "cell_type": "markdown",
   "id": "2336d08f",
   "metadata": {},
   "source": [
    "# Start DELIGHT"
   ]
  },
  {
   "cell_type": "markdown",
   "id": "89f350ba",
   "metadata": {},
   "source": [
    "This requires defining a data directory, ids, ras and decs"
   ]
  },
  {
   "cell_type": "code",
   "execution_count": null,
   "id": "fc037652",
   "metadata": {
    "ExecuteTime": {
     "end_time": "2023-01-18T02:41:37.689061Z",
     "start_time": "2023-01-18T02:41:37.666154Z"
    }
   },
   "outputs": [],
   "source": [
    "# start Delight client                                                                                                                                                                                        \n",
    "dclient = Delight(datadir, df.oid.values, df.ra.values, df.dec.values)"
   ]
  },
  {
   "cell_type": "markdown",
   "id": "35662592",
   "metadata": {},
   "source": [
    "Download data and get pixel coordinates"
   ]
  },
  {
   "cell_type": "code",
   "execution_count": null,
   "id": "b8c1ad96",
   "metadata": {
    "ExecuteTime": {
     "end_time": "2023-01-18T02:41:38.832786Z",
     "start_time": "2023-01-18T02:41:38.790404Z"
    }
   },
   "outputs": [],
   "source": [
    "# download missing data (will check for existing files first)\n",
    "dclient.download()"
   ]
  },
  {
   "cell_type": "code",
   "execution_count": null,
   "id": "b246e267",
   "metadata": {
    "ExecuteTime": {
     "end_time": "2023-01-18T02:41:39.760719Z",
     "start_time": "2023-01-18T02:41:39.731177Z"
    }
   },
   "outputs": [],
   "source": [
    "# Check downloaded files\n",
    "os.listdir(os.path.join(datadir, \"fits\"))"
   ]
  },
  {
   "cell_type": "code",
   "execution_count": null,
   "id": "c592c95b",
   "metadata": {
    "ExecuteTime": {
     "end_time": "2023-01-18T02:41:40.415474Z",
     "start_time": "2023-01-18T02:41:40.377116Z"
    }
   },
   "outputs": [],
   "source": [
    "# check the shape of the dataframe\n",
    "dclient.df.shape"
   ]
  },
  {
   "cell_type": "markdown",
   "id": "29b40e48",
   "metadata": {},
   "source": [
    "Read WCS solutions to move between pixel and celestial coordinates"
   ]
  },
  {
   "cell_type": "code",
   "execution_count": null,
   "id": "431a107c",
   "metadata": {
    "ExecuteTime": {
     "end_time": "2023-01-18T02:41:42.153985Z",
     "start_time": "2023-01-18T02:41:41.779835Z"
    },
    "scrolled": false
   },
   "outputs": [],
   "source": [
    "# get coordinates using WCS solution (we turn warnings off temporarily)\n",
    "dclient.get_pix_coords()"
   ]
  },
  {
   "cell_type": "markdown",
   "id": "10a9f44d",
   "metadata": {},
   "source": [
    "# Create multi resolution images"
   ]
  },
  {
   "cell_type": "markdown",
   "id": "2a7f4b8b",
   "metadata": {},
   "source": [
    "This requires defining the number of levels, whether to mask by the median absolute deviation (`domask=True`, `doobject=False`), or using sextractor (`domask=False`, `doobject=True`)."
   ]
  },
  {
   "cell_type": "code",
   "execution_count": null,
   "id": "bb7d5176",
   "metadata": {
    "ExecuteTime": {
     "end_time": "2023-01-18T02:41:44.861727Z",
     "start_time": "2023-01-18T02:41:43.184000Z"
    },
    "scrolled": true
   },
   "outputs": [],
   "source": [
    "nlevels = 5\n",
    "domask = False\n",
    "doobject = True\n",
    "doplot = False\n",
    "\n",
    "dclient.compute_multiresolution(nlevels, domask, doobject, doplot)"
   ]
  },
  {
   "cell_type": "markdown",
   "id": "a1bcd890",
   "metadata": {},
   "source": [
    "# Apply classification model "
   ]
  },
  {
   "cell_type": "markdown",
   "id": "69791669",
   "metadata": {},
   "source": [
    "Load the tensorflow model"
   ]
  },
  {
   "cell_type": "code",
   "execution_count": null,
   "id": "fec26557",
   "metadata": {
    "ExecuteTime": {
     "end_time": "2023-01-18T02:41:46.792432Z",
     "start_time": "2023-01-18T02:41:45.257699Z"
    }
   },
   "outputs": [],
   "source": [
    "dclient.load_model()"
   ]
  },
  {
   "cell_type": "markdown",
   "id": "ccf8ffc7",
   "metadata": {},
   "source": [
    "## Preprocess the multi resolution data"
   ]
  },
  {
   "cell_type": "code",
   "execution_count": null,
   "id": "969088e0",
   "metadata": {
    "ExecuteTime": {
     "end_time": "2023-01-18T02:41:46.852959Z",
     "start_time": "2023-01-18T02:41:46.828804Z"
    }
   },
   "outputs": [],
   "source": [
    "dclient.preprocess()"
   ]
  },
  {
   "cell_type": "markdown",
   "id": "e7c4f095",
   "metadata": {},
   "source": [
    "## Predict host galaxies using the model"
   ]
  },
  {
   "cell_type": "code",
   "execution_count": null,
   "id": "0339d9e3",
   "metadata": {
    "ExecuteTime": {
     "end_time": "2023-01-18T02:41:49.374072Z",
     "start_time": "2023-01-18T02:41:46.884010Z"
    }
   },
   "outputs": [],
   "source": [
    "dclient.predict()"
   ]
  },
  {
   "cell_type": "markdown",
   "id": "d0d93acd",
   "metadata": {},
   "source": [
    "# Optional: get host sizes"
   ]
  },
  {
   "cell_type": "code",
   "execution_count": null,
   "id": "288d0bdf",
   "metadata": {
    "ExecuteTime": {
     "end_time": "2023-01-18T02:41:52.241341Z",
     "start_time": "2023-01-18T02:41:49.406205Z"
    }
   },
   "outputs": [],
   "source": [
    "for oid in dclient.df.index:\n",
    "    dclient.get_hostsize(oid, doplot=False)"
   ]
  },
  {
   "cell_type": "markdown",
   "id": "856cc92a",
   "metadata": {},
   "source": [
    "# See final dataframe"
   ]
  },
  {
   "cell_type": "code",
   "execution_count": null,
   "id": "cea9661b",
   "metadata": {
    "ExecuteTime": {
     "end_time": "2023-01-18T02:41:52.357519Z",
     "start_time": "2023-01-18T02:41:52.273753Z"
    },
    "scrolled": false
   },
   "outputs": [],
   "source": [
    "dclient.df"
   ]
  },
  {
   "cell_type": "markdown",
   "id": "e07d4e9b",
   "metadata": {},
   "source": [
    "# Save and load the data"
   ]
  },
  {
   "cell_type": "markdown",
   "id": "6e6ebb63",
   "metadata": {},
   "source": [
    "Save the data"
   ]
  },
  {
   "cell_type": "code",
   "execution_count": null,
   "id": "4f082f49",
   "metadata": {
    "ExecuteTime": {
     "end_time": "2023-01-18T02:41:55.154793Z",
     "start_time": "2023-01-18T02:41:55.068355Z"
    }
   },
   "outputs": [],
   "source": [
    "dclient.save()"
   ]
  },
  {
   "cell_type": "markdown",
   "id": "a00a7ebc",
   "metadata": {},
   "source": [
    "Load the data"
   ]
  },
  {
   "cell_type": "code",
   "execution_count": null,
   "id": "11643bcb",
   "metadata": {
    "ExecuteTime": {
     "end_time": "2023-01-18T02:41:55.812243Z",
     "start_time": "2023-01-18T02:41:55.704635Z"
    }
   },
   "outputs": [],
   "source": [
    "dclient.load()"
   ]
  },
  {
   "cell_type": "markdown",
   "id": "87d094e7",
   "metadata": {},
   "source": [
    "# Visualize the outputs"
   ]
  },
  {
   "cell_type": "markdown",
   "id": "b4ad1bb7",
   "metadata": {},
   "source": [
    "## See the contents of the dataframe for a given transient"
   ]
  },
  {
   "cell_type": "code",
   "execution_count": null,
   "id": "04abf8f0",
   "metadata": {
    "ExecuteTime": {
     "end_time": "2023-01-18T02:41:56.899558Z",
     "start_time": "2023-01-18T02:41:56.832546Z"
    }
   },
   "outputs": [],
   "source": [
    "dclient.df.loc[\"SN2004aq\"]"
   ]
  },
  {
   "cell_type": "markdown",
   "id": "b824944a",
   "metadata": {},
   "source": [
    "## See the host and predicted position"
   ]
  },
  {
   "cell_type": "markdown",
   "id": "33384eef",
   "metadata": {},
   "source": [
    "In most cases the model works very well, but if there are two nearby sources that could be identified as hosts the model may return a predicted position between both of them."
   ]
  },
  {
   "cell_type": "code",
   "execution_count": null,
   "id": "948951b3",
   "metadata": {
    "ExecuteTime": {
     "end_time": "2023-01-18T02:41:59.474966Z",
     "start_time": "2023-01-18T02:41:58.010027Z"
    }
   },
   "outputs": [],
   "source": [
    "dclient.plot_host(\"SN2004aq\")"
   ]
  },
  {
   "cell_type": "markdown",
   "id": "991578fa",
   "metadata": {},
   "source": [
    "## See the host semi-major axis estimation"
   ]
  },
  {
   "cell_type": "code",
   "execution_count": null,
   "id": "9bbfbb96",
   "metadata": {
    "ExecuteTime": {
     "end_time": "2023-01-18T02:42:00.513539Z",
     "start_time": "2023-01-18T02:41:59.500109Z"
    }
   },
   "outputs": [],
   "source": [
    "coordsdata = dclient.get_hostsize(\"SN2004aq\", doplot=True)"
   ]
  },
  {
   "cell_type": "markdown",
   "id": "b079b2f1",
   "metadata": {},
   "source": [
    "## Visualize all transient candidates"
   ]
  },
  {
   "cell_type": "code",
   "execution_count": null,
   "id": "371b5ab4",
   "metadata": {
    "ExecuteTime": {
     "start_time": "2023-01-18T02:41:59.391Z"
    },
    "scrolled": false
   },
   "outputs": [],
   "source": [
    "for oid in dclient.df.index:\n",
    "    dclient.plot_host(oid)\n",
    "    dclient.get_hostsize(oid, doplot=True)"
   ]
  },
  {
   "cell_type": "code",
   "execution_count": null,
   "id": "2bea6137",
   "metadata": {
    "ExecuteTime": {
     "start_time": "2023-01-18T02:42:00.046Z"
    }
   },
   "outputs": [],
   "source": [
    "dclient.df"
   ]
  },
  {
   "cell_type": "code",
   "execution_count": null,
   "id": "60b9257e",
   "metadata": {},
   "outputs": [],
   "source": []
  },
  {
   "cell_type": "code",
   "execution_count": null,
   "id": "6874370d",
   "metadata": {},
   "outputs": [],
   "source": []
  }
 ],
 "metadata": {
  "kernelspec": {
   "display_name": "Python 3",
   "language": "python",
   "name": "python3"
  },
  "language_info": {
   "codemirror_mode": {
    "name": "ipython",
    "version": 3
   },
   "file_extension": ".py",
   "mimetype": "text/x-python",
   "name": "python",
   "nbconvert_exporter": "python",
   "pygments_lexer": "ipython3",
   "version": "3.8.8"
  },
  "toc": {
   "base_numbering": 1,
   "nav_menu": {},
   "number_sections": true,
   "sideBar": true,
   "skip_h1_title": false,
   "title_cell": "Table of Contents",
   "title_sidebar": "Contents",
   "toc_cell": false,
   "toc_position": {},
   "toc_section_display": true,
   "toc_window_display": true
  },
  "varInspector": {
   "cols": {
    "lenName": 16,
    "lenType": 16,
    "lenVar": 40
   },
   "kernels_config": {
    "python": {
     "delete_cmd_postfix": "",
     "delete_cmd_prefix": "del ",
     "library": "var_list.py",
     "varRefreshCmd": "print(var_dic_list())"
    },
    "r": {
     "delete_cmd_postfix": ") ",
     "delete_cmd_prefix": "rm(",
     "library": "var_list.r",
     "varRefreshCmd": "cat(var_dic_list()) "
    }
   },
   "types_to_exclude": [
    "module",
    "function",
    "builtin_function_or_method",
    "instance",
    "_Feature"
   ],
   "window_display": false
  }
 },
 "nbformat": 4,
 "nbformat_minor": 5
}
